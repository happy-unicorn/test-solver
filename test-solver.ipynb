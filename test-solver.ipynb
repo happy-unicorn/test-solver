{
 "cells": [
  {
   "cell_type": "markdown",
   "metadata": {},
   "source": [
    "# Решатель для тестов Богатова"
   ]
  },
  {
   "cell_type": "markdown",
   "metadata": {},
   "source": [
    "Для работы программы необходимо удаленное подключение к серверу ФТФ КубГУ через **xfreerdp**. Программа работает на OCR с помощью **PyTesseract**, преобразования изображений с помощью **OpenCV** и **pyautogui** для перемещения курсора."
   ]
  },
  {
   "cell_type": "markdown",
   "metadata": {},
   "source": [
    "* Тест берет вопросы из пула в произвольном порядке, поэтому нам нужно автоматически распознавать текст вопроса."
   ]
  },
  {
   "cell_type": "code",
   "execution_count": 1,
   "metadata": {},
   "outputs": [],
   "source": [
    "import time\n",
    "import pyautogui\n",
    "import cv2\n",
    "import mss\n",
    "import numpy\n",
    "import pytesseract\n",
    "import csv "
   ]
  },
  {
   "cell_type": "markdown",
   "metadata": {},
   "source": [
    "* Множество **WHITELIST** хранит допустимые для считывания с помощью OCR символы в вопросе теста.\n",
    "* **MON** хранит координаты считываемой области.\n",
    "* **BUTTONS** хранит координаты кнопок в UI теста."
   ]
  },
  {
   "cell_type": "code",
   "execution_count": 8,
   "metadata": {},
   "outputs": [],
   "source": [
    "WHITELIST = set('абвгдеёжзийклмнопрстуфхцчшщъыьэюяАБВГДЕЁЖЗИЙКЛМНОПРСТУФХЦЧШЩЪЫЬЭЮЯ1234567890 ')\n",
    "MON = {'top': 92, 'left': 1, 'width': 845, 'height': 154}\n",
    "BUTTONS = {\n",
    "    'bn': {'c1': 450, 'c2': 90},\n",
    "    'b1': {'c1': 20, 'c2': 350},\n",
    "    'b2': {'c1': 450, 'c2': 350},\n",
    "    'b3': {'c1': 20, 'c2': 500},\n",
    "    'b4': {'c1': 450, 'c2': 500},\n",
    "    'by': {'c1': 470, 'c2': 450},\n",
    "}"
   ]
  },
  {
   "cell_type": "code",
   "execution_count": 19,
   "metadata": {},
   "outputs": [],
   "source": [
    "def click(cs):\n",
    "    pyautogui.moveTo(cs['c1'], cs['c2'])\n",
    "    pyautogui.click()\n",
    "\n",
    "    \n",
    "def to_csv(data, filename):\n",
    "    file = open(filename, 'w+', newline ='') \n",
    "    with file:     \n",
    "        write = csv.writer(file) \n",
    "        write.writerows(data)\n",
    "        \n",
    "\n",
    "def read_questions(filename, test_length):\n",
    "    data = []\n",
    "    with mss.mss() as sct:\n",
    "        for i in range(test_length):\n",
    "            im = numpy.asarray(sct.grab(MON))\n",
    "            im = cv2.cvtColor(im, cv2.COLOR_BGR2GRAY)\n",
    "\n",
    "            text = pytesseract.image_to_string(im, lang='rus')\n",
    "            text = ''.join(filter(WHITELIST.__contains__, text))\n",
    "            \n",
    "            data.append([text])\n",
    "            click(BUTTONS['b1'])\n",
    "            time.sleep(0.1)\n",
    "            click(BUTTONS['bn'])\n",
    "            time.sleep(0.1)\n",
    "            click(BUTTONS['by'])\n",
    "            time.sleep(0.5)\n",
    "    to_csv(data, filename)\n",
    "    \n",
    "\n",
    "def csv_reader(csv_path, unique_length):\n",
    "    answers = dict()\n",
    "    with open(csv_path, \"r\") as f_obj:\n",
    "        reader = csv.reader(f_obj)\n",
    "        for row in reader:\n",
    "            answers[row[0].lower()[:unique_length]] = row[1]\n",
    "    return answers\n",
    "\n",
    "\n",
    "def resolve_test(path, test_length, unique_length):\n",
    "    answers = csv_reader(path, unique_length)\n",
    "    with mss.mss() as sct:\n",
    "        for i in range(test_length):\n",
    "            im = numpy.asarray(sct.grab(MON))\n",
    "            im = cv2.cvtColor(im, cv2.COLOR_BGR2GRAY)\n",
    "\n",
    "            text = pytesseract.image_to_string(im, lang='rus')\n",
    "            text = ''.join(filter(WHITELIST.__contains__, text)).lower()[:unique_length]\n",
    "            \n",
    "            answer = answers[text]\n",
    "            \n",
    "            if answer == '1':\n",
    "                click(BUTTONS['b1'])\n",
    "            if answer == '2':\n",
    "                click(BUTTONS['b2'])\n",
    "            if answer == '3':\n",
    "                click(BUTTONS['b3'])\n",
    "            if answer == '4':\n",
    "                click(BUTTONS['b4'])\n",
    "            time.sleep(0.1)\n",
    "            click(BUTTONS['bn'])\n",
    "            time.sleep(0.1)\n",
    "            click(BUTTONS['by'])\n",
    "            time.sleep(0.5)"
   ]
  },
  {
   "cell_type": "markdown",
   "metadata": {},
   "source": [
    "### Важно! Запустить один раз для считывания вопросов, если необходимо"
   ]
  },
  {
   "cell_type": "markdown",
   "metadata": {},
   "source": [
    "* Первый параметр - путь к файлу для сохранения вопросов.\n",
    "* Второй параметр - длина теста (число вопросов)."
   ]
  },
  {
   "cell_type": "code",
   "execution_count": null,
   "metadata": {},
   "outputs": [],
   "source": [
    "read_questions('data/test.csv', 50)"
   ]
  },
  {
   "cell_type": "markdown",
   "metadata": {},
   "source": [
    "### Запускать при каждом решении теста"
   ]
  },
  {
   "cell_type": "markdown",
   "metadata": {},
   "source": [
    "* Первый параметр - путь к файлу для сохранения вопросов.\n",
    "* Второй параметр - длина теста (число вопросов).\n",
    "* Третий параметр - длина текста вопроса, по которому можно уникально идентифицировать вопрос."
   ]
  },
  {
   "cell_type": "code",
   "execution_count": null,
   "metadata": {},
   "outputs": [],
   "source": [
    "resolve_test('data/test.csv', 50, 50)"
   ]
  }
 ],
 "metadata": {
  "kernelspec": {
   "display_name": "Python 3",
   "language": "python",
   "name": "python3"
  },
  "language_info": {
   "codemirror_mode": {
    "name": "ipython",
    "version": 3
   },
   "file_extension": ".py",
   "mimetype": "text/x-python",
   "name": "python",
   "nbconvert_exporter": "python",
   "pygments_lexer": "ipython3",
   "version": "3.7.4"
  }
 },
 "nbformat": 4,
 "nbformat_minor": 2
}
